{
 "cells": [
  {
   "cell_type": "code",
   "execution_count": 1,
   "metadata": {},
   "outputs": [],
   "source": [
    "### Use gpd environment (a clean environment for geopandas)"
   ]
  },
  {
   "cell_type": "code",
   "execution_count": 24,
   "metadata": {},
   "outputs": [],
   "source": [
    "import geopandas as gpd\n",
    "from shapely.geometry import Point\n",
    "import pandas as pd\n",
    "import numpy as np\n",
    "import pylab as pl\n",
    "import os\n",
    "from IPython import display\n",
    "from subprocess import call\n",
    "from datetime import datetime\n",
    "import subprocess\n",
    "import sys\n",
    "sys.path.append('/Users/vsriniv/Documents/Research/Github/PatchSim')\n",
    "import patchsim as sim\n",
    "import matplotlib.pyplot as plt\n",
    "%matplotlib inline"
   ]
  },
  {
   "cell_type": "code",
   "execution_count": 25,
   "metadata": {},
   "outputs": [],
   "source": [
    "# ## Note that the v2 OD_Matrix has both src-dest and dest-src travel times.\n",
    "# od_matrix = pd.read_csv('../data/pop_travel/OD_Matrix_v2.csv')\n",
    "# od_matrix['Grav'] = (od_matrix.Origin_Pop*od_matrix.Destination_Pop)/(od_matrix.Travel_Time**2)\n",
    "# od_matrix = od_matrix.assign(norm_flow=od_matrix.Grav.div(od_matrix.groupby(['Origin']).Grav.transform('sum')))\n",
    "# od_matrix = od_matrix[['Origin','Destination','norm_flow']]\n",
    "\n",
    "# hz = od_matrix.Origin.unique()\n",
    "# non_commute=0.7\n",
    "# df = pd.DataFrame({'Origin':hz,'Destination':hz,'norm_flow':np.repeat(non_commute,len(hz))})\n",
    "# od_matrix.norm_flow = od_matrix.norm_flow*(1-non_commute)\n",
    "# od_matrix = od_matrix.append(df[['Origin','Destination','norm_flow']])\n",
    "# od_matrix['temp'] = 0\n",
    "# od_matrix.Origin = od_matrix.Origin.str.replace(' ','_')\n",
    "# od_matrix.Destination = od_matrix.Destination.str.replace(' ','_')\n",
    "# od_matrix[['Origin','Destination','temp','norm_flow']].to_csv('../data/patchsim/grav_drc_v2.csv',sep=' ',index=None,header=None)"
   ]
  },
  {
   "cell_type": "code",
   "execution_count": 26,
   "metadata": {},
   "outputs": [],
   "source": [
    "# df = pd.read_csv('../data/pop_travel/OD_Matrix_v2.csv')\n",
    "# df = df[['Origin','Origin_Pop']].drop_duplicates()\n",
    "# df.Origin = df.Origin.str.replace(' ','_')\n",
    "# df.to_csv('../data/patchsim/pop_drc_v2.csv',sep=' ',index=None,header=None)"
   ]
  },
  {
   "cell_type": "code",
   "execution_count": 193,
   "metadata": {},
   "outputs": [],
   "source": [
    "cfg1 = sim.read_config('../data/patchsim/cfg_stage1.txt')\n",
    "sim.run_disease_simulation(cfg1,write_epi=True)\n",
    "cfg2 = sim.read_config('../data/patchsim/cfg_stage2.txt')\n",
    "sim.run_disease_simulation(cfg2,write_epi=True)"
   ]
  },
  {
   "cell_type": "code",
   "execution_count": 194,
   "metadata": {},
   "outputs": [],
   "source": [
    "out1_df = pd.read_csv('../outputs/sample1.out',delimiter=' ',header=None,index_col=0)\n",
    "out2_df = pd.read_csv('../outputs/sample2.out',delimiter=' ',header=None,index_col=0)\n",
    "out2_df.columns = [x+len(out1_df.columns) for x in out2_df.columns]\n",
    "out_df = out1_df.join(out2_df)"
   ]
  },
  {
   "cell_type": "code",
   "execution_count": 195,
   "metadata": {},
   "outputs": [
    {
     "data": {
      "text/plain": [
       "0      26\n",
       "1      33\n",
       "2      60\n",
       "3      68\n",
       "4      75\n",
       "5      84\n",
       "6      98\n",
       "7     112\n",
       "8     126\n",
       "9     140\n",
       "10    160\n",
       "11    181\n",
       "12    202\n",
       "13    230\n",
       "14    258\n",
       "15    315\n",
       "16    388\n",
       "17    494\n",
       "18    647\n",
       "19    855\n",
       "dtype: int64"
      ]
     },
     "execution_count": 195,
     "metadata": {},
     "output_type": "execute_result"
    }
   ],
   "source": [
    "out_df.index = out_df.index.str.replace('_',' ')\n",
    "out_wk = out_df.groupby((out_df.columns - 1)// 7, axis=1).sum()\n",
    "wk_range = out_wk.columns[:-1]\n",
    "out_wk = out_wk[wk_range]\n",
    "out_wk.index = out_wk.index.str.replace('_',' ')\n",
    "out_wk.sum().cumsum()"
   ]
  },
  {
   "cell_type": "code",
   "execution_count": 196,
   "metadata": {},
   "outputs": [],
   "source": [
    "# gdf = gpd.read_file('../data/shapefile/healthzones_v2/DRC_Districts.shp').set_index('ADM2_NAME')\n",
    "# gdf = gdf.join(out_wk)\n",
    "# count=0\n",
    "# for wk in wk_range:\n",
    "#     f = plt.figure(figsize=(10,10))\n",
    "#     ax = plt.gca()\n",
    "#     plt.axis('off')\n",
    "#     plt.title('Simulated cases in week {}'.format(wk),fontsize=20)\n",
    "#     gdf[(gdf.ADM1_NAME.isin(['ITURI','NORD KIVU']))].plot(ax=ax,column=wk,cmap='Reds',vmin=0,vmax=10,legend=True)\n",
    "#     #gdf.plot(ax=ax,column=wk,cmap='Reds',vmin=0,vmax=10,legend=True)\n",
    "#     display.clear_output(wait=True)\n",
    "#     display.display(pl.gcf())    \n",
    "#     plt.savefig('../plots/{:02d}.png'.format(count),bbox_inches='tight')\n",
    "#     count+=1\n",
    "#     plt.close()\n",
    "# call(\"convert -delay 100 -loop 1 ../plots/*.png ../plots/sim_anim_nk.gif\".split(' '))\n",
    "# [os.remove('../plots/'+x) for x in os.listdir('../plots') if '.png' in x];"
   ]
  },
  {
   "cell_type": "code",
   "execution_count": 197,
   "metadata": {},
   "outputs": [
    {
     "data": {
      "image/png": "[encoded data removed]",
      "text/plain": [
       "<Figure size 432x288 with 1 Axes>"
      ]
     },
     "metadata": {
      "needs_background": "light"
     },
     "output_type": "display_data"
    }
   ],
   "source": [
    "evd_df = pd.read_csv('../data/ebola_drc_nordkivu/data/ebola_drc-all.csv')\n",
    "evd_df['Date'] = evd_df.date.apply(lambda x: datetime.strptime(str(x),'%Y%m%d'))\n",
    "ax = out_df.sum().cumsum().plot()\n",
    "gt = evd_df[evd_df.health_zone=='all'].total_c.values\n",
    "ax.plot(gt)\n",
    "plt.title('Cumulative simulated cases - DRC')\n",
    "plt.xlabel('Days')\n",
    "plt.savefig('../plots/sim_epicurve.png',dpi=100)"
   ]
  },
  {
   "cell_type": "code",
   "execution_count": 200,
   "metadata": {},
   "outputs": [
    {
     "data": {
      "text/plain": [
       "<matplotlib.axes._subplots.AxesSubplot at 0x11f147da0>"
      ]
     },
     "execution_count": 200,
     "metadata": {},
     "output_type": "execute_result"
    },
    {
     "data": {
      "image/png": "[encoded data removed]",
      "text/plain": [
       "<Figure size 432x288 with 1 Axes>"
      ]
     },
     "metadata": {
      "needs_background": "light"
     },
     "output_type": "display_data"
    }
   ],
   "source": [
    "out_df.loc['VUHOVI'].cumsum().plot()"
   ]
  },
  {
   "cell_type": "code",
   "execution_count": 201,
   "metadata": {},
   "outputs": [
    {
     "data": {
      "text/plain": [
       "[<matplotlib.lines.Line2D at 0x121b0c438>]"
      ]
     },
     "execution_count": 201,
     "metadata": {},
     "output_type": "execute_result"
    },
    {
     "data": {
      "image/png": "[encoded data removed]",
      "text/plain": [
       "<Figure size 432x288 with 1 Axes>"
      ]
     },
     "metadata": {
      "needs_background": "light"
     },
     "output_type": "display_data"
    }
   ],
   "source": [
    "plt.plot(evd_df[evd_df.health_zone=='Beni'].total_c.values)"
   ]
  },
  {
   "cell_type": "code",
   "execution_count": 202,
   "metadata": {},
   "outputs": [],
   "source": [
    "# vax_beni = np.nan_to_num(np.diff(evd_df[evd_df.health_zone=='Beni'].total_vacc.values))\n",
    "# for i in range(len(vax_beni)):\n",
    "#     print(i,'BENI',int(vax_beni[i]))"
   ]
  },
  {
   "cell_type": "code",
   "execution_count": 203,
   "metadata": {},
   "outputs": [
    {
     "data": {
      "text/plain": [
       "[<matplotlib.lines.Line2D at 0x122193320>]"
      ]
     },
     "execution_count": 203,
     "metadata": {},
     "output_type": "execute_result"
    },
    {
     "data": {
      "image/png": "[encoded data removed]",
      "text/plain": [
       "<Figure size 432x288 with 1 Axes>"
      ]
     },
     "metadata": {
      "needs_background": "light"
     },
     "output_type": "display_data"
    }
   ],
   "source": [
    "plt.plot(evd_df[evd_df.health_zone=='Beni'].total_vacc.values)"
   ]
  },
  {
   "cell_type": "code",
   "execution_count": 204,
   "metadata": {},
   "outputs": [
    {
     "data": {
      "text/html": [
       "<div>\n",
       "<style scoped>\n",
       "    .dataframe tbody tr th:only-of-type {\n",
       "        vertical-align: middle;\n",
       "    }\n",
       "\n",
       "    .dataframe tbody tr th {\n",
       "        vertical-align: top;\n",
       "    }\n",
       "\n",
       "    .dataframe thead th {\n",
       "        text-align: right;\n",
       "    }\n",
       "</style>\n",
       "<table border=\"1\" class=\"dataframe\">\n",
       "  <thead>\n",
       "    <tr style=\"text-align: right;\">\n",
       "      <th></th>\n",
       "      <th>Total</th>\n",
       "      <th>risk_index</th>\n",
       "    </tr>\n",
       "    <tr>\n",
       "      <th>0</th>\n",
       "      <th></th>\n",
       "      <th></th>\n",
       "    </tr>\n",
       "  </thead>\n",
       "  <tbody>\n",
       "    <tr>\n",
       "      <th>VUHOVI</th>\n",
       "      <td>302</td>\n",
       "      <td>0.353216</td>\n",
       "    </tr>\n",
       "    <tr>\n",
       "      <th>MABALAKO</th>\n",
       "      <td>159</td>\n",
       "      <td>0.185965</td>\n",
       "    </tr>\n",
       "    <tr>\n",
       "      <th>BENI</th>\n",
       "      <td>39</td>\n",
       "      <td>0.045614</td>\n",
       "    </tr>\n",
       "    <tr>\n",
       "      <th>MUSIENENE</th>\n",
       "      <td>38</td>\n",
       "      <td>0.044444</td>\n",
       "    </tr>\n",
       "    <tr>\n",
       "      <th>OICHA</th>\n",
       "      <td>35</td>\n",
       "      <td>0.040936</td>\n",
       "    </tr>\n",
       "    <tr>\n",
       "      <th>KIBIRIZI</th>\n",
       "      <td>33</td>\n",
       "      <td>0.038596</td>\n",
       "    </tr>\n",
       "    <tr>\n",
       "      <th>MUTWANGA</th>\n",
       "      <td>33</td>\n",
       "      <td>0.038596</td>\n",
       "    </tr>\n",
       "    <tr>\n",
       "      <th>KALUNGUTA</th>\n",
       "      <td>30</td>\n",
       "      <td>0.035088</td>\n",
       "    </tr>\n",
       "    <tr>\n",
       "      <th>BUNIA</th>\n",
       "      <td>20</td>\n",
       "      <td>0.023392</td>\n",
       "    </tr>\n",
       "    <tr>\n",
       "      <th>MAKISO-KISANGANI</th>\n",
       "      <td>20</td>\n",
       "      <td>0.023392</td>\n",
       "    </tr>\n",
       "  </tbody>\n",
       "</table>\n",
       "</div>"
      ],
      "text/plain": [
       "                  Total  risk_index\n",
       "0                                  \n",
       "VUHOVI              302    0.353216\n",
       "MABALAKO            159    0.185965\n",
       "BENI                 39    0.045614\n",
       "MUSIENENE            38    0.044444\n",
       "OICHA                35    0.040936\n",
       "KIBIRIZI             33    0.038596\n",
       "MUTWANGA             33    0.038596\n",
       "KALUNGUTA            30    0.035088\n",
       "BUNIA                20    0.023392\n",
       "MAKISO-KISANGANI     20    0.023392"
      ]
     },
     "execution_count": 204,
     "metadata": {},
     "output_type": "execute_result"
    }
   ],
   "source": [
    "out_wk['Total'] = out_wk[wk_range].sum(axis=1)\n",
    "temp_df = out_wk.sort_values('Total',ascending=False)[['Total']]\n",
    "temp_df['risk_index'] = temp_df.Total/temp_df.Total.sum()\n",
    "temp_df.head(10)"
   ]
  }
 ],
 "metadata": {
  "kernelspec": {
   "display_name": "Python 3",
   "language": "python",
   "name": "python3"
  },
  "language_info": {
   "codemirror_mode": {
    "name": "ipython",
    "version": 3
   },
   "file_extension": ".py",
   "mimetype": "text/x-python",
   "name": "python",
   "nbconvert_exporter": "python",
   "pygments_lexer": "ipython3",
   "version": "3.6.7"
  }
 },
 "nbformat": 4,
 "nbformat_minor": 2
}
