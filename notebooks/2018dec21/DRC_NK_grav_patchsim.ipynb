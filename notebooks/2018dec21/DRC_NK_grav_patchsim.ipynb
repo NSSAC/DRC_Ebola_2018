{
 "cells": [
  {
   "cell_type": "code",
   "execution_count": 1,
   "metadata": {},
   "outputs": [],
   "source": [
    "### Use gpd environment (a clean environment for geopandas)"
   ]
  },
  {
   "cell_type": "code",
   "execution_count": 5,
   "metadata": {},
   "outputs": [],
   "source": [
    "#import geopandas as gpd\n",
    "#from shapely.geometry import Point\n",
    "import pandas as pd\n",
    "import numpy as np\n",
    "import pylab as pl\n",
    "import os\n",
    "from IPython import display\n",
    "from subprocess import call\n",
    "from datetime import datetime\n",
    "import subprocess\n",
    "import sys\n",
    "sys.path.append('/Users/vsriniv/Documents/Research/Github/PatchSim')\n",
    "#sys.path.append('/Users/brylew/NSSACgit/PatchSim')\n",
    "import patchsim as sim\n",
    "import matplotlib.pyplot as plt\n",
    "%matplotlib inline"
   ]
  },
  {
   "cell_type": "markdown",
   "metadata": {},
   "source": [
    "### Cleaning OD_Matrix_v3 and restricting to Nord-Kivu, Ituri"
   ]
  },
  {
   "cell_type": "code",
   "execution_count": 6,
   "metadata": {},
   "outputs": [],
   "source": [
    "# od_matrix = pd.read_csv('../data/pop_travel/OD_Matrix_v3_orig.csv')\n",
    "# od_matrix = od_matrix[~od_matrix.Destination.str.startswith('POE_')] ## Dropping points of entry\n",
    "\n",
    "# pop2018 = pd.read_csv('../data/pop_travel/DRC_Pop2018.csv')\n",
    "# pop2018['ADM2_caps'] = pop2018.ADM2_NAME.str.upper()\n",
    "\n",
    "# ## Matching names from shape file or OD_matrix\n",
    "# match_dict = {'BAMBU':'BAMBU-MINES',\n",
    "#              'MONGBALU':'MONGBWALU',\n",
    "#              'NYAKUNDE':'NYANKUNDE',\n",
    "#              'KATOYI':'KITOYI'}\n",
    "# pop2018['ADM2_caps'] = pop2018.ADM2_caps.apply(lambda x: match_dict[x] if x in match_dict.keys() else x)\n",
    "\n",
    "# ## Restricting analyses to Nord-Kivu and Ituri province health zones\n",
    "# pop2018 = pop2018[(pop2018.ADM1_NAME.isin(['Nord-Kivu','Ituri']))]\n",
    "# pop2018 = pop2018[['ADM2_caps','Pop2018']]\n",
    "# od_matrix = od_matrix.merge(pop2018,left_on='Origin',right_on='ADM2_caps').merge(pop2018,left_on='Destination',right_on='ADM2_caps')\n",
    "# od_matrix.drop(['ADM2_caps_x','ADM2_caps_y'],axis=1,inplace=True)\n",
    "# od_matrix = od_matrix[['Origin','Pop2018_x','Destination','Pop2018_y','Travel_Time']]\n",
    "# od_matrix.columns = ['Origin','Origin_Pop','Destination','Destination_Pop','Travel_Time']\n",
    "# od_matrix.to_csv('../data/pop_travel/OD_Matrix_v3_cleaned.csv',index=None)"
   ]
  },
  {
   "cell_type": "markdown",
   "metadata": {},
   "source": [
    "### Preparing PatchSim PatchFile and NetworkFile (Gravity) v3"
   ]
  },
  {
   "cell_type": "code",
   "execution_count": 7,
   "metadata": {},
   "outputs": [],
   "source": [
    "# od_matrix = pd.read_csv('../data/pop_travel/OD_Matrix_v3_cleaned.csv')\n",
    "# od_matrix['Grav'] = (od_matrix.Origin_Pop*od_matrix.Destination_Pop)/(od_matrix.Travel_Time**2)\n",
    "# od_matrix = od_matrix.assign(norm_flow=od_matrix.Grav.div(od_matrix.groupby(['Origin']).Grav.transform('sum')))\n",
    "# od_matrix = od_matrix[['Origin','Destination','norm_flow']]\n",
    "# hz = od_matrix.Origin.unique()\n",
    "# non_commute=0.85\n",
    "# df = pd.DataFrame({'Origin':hz,'Destination':hz,'norm_flow':np.repeat(non_commute,len(hz))})\n",
    "# od_matrix.norm_flow = od_matrix.norm_flow*(1-non_commute)\n",
    "# od_matrix = od_matrix.append(df[['Origin','Destination','norm_flow']])\n",
    "# od_matrix['temp'] = 0\n",
    "# od_matrix.Origin = od_matrix.Origin.str.replace(' ','_')\n",
    "# od_matrix.Destination = od_matrix.Destination.str.replace(' ','_')\n",
    "# od_matrix[['Origin','Destination','temp','norm_flow']].to_csv('../data/patchsim/grav_drc_v3.csv',sep=' ',index=None,header=None)\n",
    "\n",
    "# df = pd.read_csv('../data/pop_travel/OD_Matrix_v3_cleaned.csv')\n",
    "# df = df[['Origin','Origin_Pop']].drop_duplicates()\n",
    "# df.Origin = df.Origin.str.replace(' ','_')\n",
    "# df.to_csv('../data/patchsim/pop_drc_v3.csv',sep=' ',index=None,header=None)"
   ]
  },
  {
   "cell_type": "markdown",
   "metadata": {},
   "source": [
    "### Running PatchSim on v3 files"
   ]
  },
  {
   "cell_type": "code",
   "execution_count": 13,
   "metadata": {},
   "outputs": [],
   "source": [
    "stages = 4\n",
    "sc = 'b' # sc='a' for baseline, sc='b' for pull-out\n",
    "\n",
    "for s in range(stages):\n",
    "    if s!=3:\n",
    "        sim.run_disease_simulation(sim.read_config('../../data/patchsim/2018dec21/cfg_stage{}.txt'.format(s)),write_epi=True)\n",
    "    else:\n",
    "        sim.run_disease_simulation(sim.read_config('../../data/patchsim/2018dec21/cfg_stage{}{}.txt'.format(s,sc)),write_epi=True)\n",
    "\n",
    "out_df = pd.DataFrame()\n",
    "for s in range(stages):\n",
    "    if s!=3:\n",
    "        temp_df = pd.read_csv('../../outputs/2018dec21/sample{}.out'.format(s),delimiter=' ',header=None,index_col=0)\n",
    "    else:\n",
    "        temp_df = pd.read_csv('../../outputs/2018dec21/sample{}{}.out'.format(s,sc),delimiter=' ',header=None,index_col=0)\n",
    "        \n",
    "    if s==0:\n",
    "        out_df = temp_df.copy(deep=True)\n",
    "    else:\n",
    "        temp_df.columns = [x+len(out_df.columns) for x in temp_df.columns]\n",
    "        out_df = out_df.join(temp_df)"
   ]
  },
  {
   "cell_type": "markdown",
   "metadata": {},
   "source": [
    "### National ground truth vs simulated cases"
   ]
  },
  {
   "cell_type": "code",
   "execution_count": 14,
   "metadata": {},
   "outputs": [
    {
     "data": {
      "image/png": "[encoded data removed]",
      "text/plain": [
       "<Figure size 720x576 with 1 Axes>"
      ]
     },
     "metadata": {
      "needs_background": "light"
     },
     "output_type": "display_data"
    }
   ],
   "source": [
    "plt.figure(figsize=(10,8))\n",
    "ax = plt.gca()\n",
    "evd_df = pd.read_csv('../../data/ebola_drc_nordkivu/data/ebola_drc-all.csv')\n",
    "evd_df['Date'] = evd_df.date.apply(lambda x: datetime.strptime(str(x),'%Y%m%d'))\n",
    "gt = evd_df[evd_df.health_zone=='all'].total_c.values\n",
    "ax.plot(gt,label='Ground Truth')\n",
    "out_df.sum().cumsum().plot(label='Simulated',ax=ax)\n",
    "ax.axvline(len(gt),color='#dbdbdb')\n",
    "plt.title('National comparison')\n",
    "plt.xlabel('Days')\n",
    "plt.legend()\n",
    "plt.xlim([0,len(gt)+30])\n",
    "plt.savefig('../../plots/2018dec21/sim_gt_nat_epicurve_sc{}.png'.format(sc),dpi=100)\n",
    "plt.xlim([0,len(gt)])\n",
    "plt.savefig('../../plots/2018dec21/sim_gt_nat_epicurve_calib.png',dpi=100)"
   ]
  },
  {
   "cell_type": "markdown",
   "metadata": {},
   "source": [
    "### Regional ground truth vs simulated cases"
   ]
  },
  {
   "cell_type": "code",
   "execution_count": 15,
   "metadata": {},
   "outputs": [
    {
     "data": {
      "image/png": "[encoded data removed]",
      "text/plain": [
       "<Figure size 1152x360 with 2 Axes>"
      ]
     },
     "metadata": {
      "needs_background": "light"
     },
     "output_type": "display_data"
    }
   ],
   "source": [
    "f,axarr = plt.subplots(1,2,figsize=(16,5),sharey=True)\n",
    "key_hzs = ['MABALAKO','BENI','BUTEMBO','KATWA','KALUNGUTA','OICHA']\n",
    "for h in key_hzs:\n",
    "    evd_df[evd_df.health_zone==h.capitalize()].reset_index().plot(y='total_c',ax=axarr[0],label=h)\n",
    "axarr[0].set_title('Ground Truth')\n",
    "axarr[0].set_xlabel('Days')\n",
    "\n",
    "out_df.loc[key_hzs].T.cumsum().plot(ax=axarr[1])\n",
    "axarr[1].set_title('Simulated')\n",
    "axarr[1].set_xlabel('Days')\n",
    "axarr[1].axvline(len(gt),color='#dbdbdb')\n",
    "l = axarr[1].legend()\n",
    "l.set_title('')\n",
    "plt.xlim([0,len(gt)+30])\n",
    "plt.savefig('../../plots/2018dec21/sim_gt_reg_epicurve_sc{}.png'.format(sc),dpi=100)\n",
    "\n",
    "axarr[1].set_xlim([0,len(gt)])\n",
    "plt.savefig('../../plots/2018dec21/sim_gt_reg_epicurve_calib.png',dpi=100)"
   ]
  },
  {
   "cell_type": "markdown",
   "metadata": {},
   "source": [
    "### Risk profile for health zones"
   ]
  },
  {
   "cell_type": "code",
   "execution_count": 16,
   "metadata": {},
   "outputs": [],
   "source": [
    "### Converting to Weekly case counts\n",
    "out_df.index = out_df.index.str.replace('_',' ')\n",
    "out_wk = out_df.groupby((out_df.columns - 1)// 7, axis=1).sum()\n",
    "wk_range = out_wk.columns[:-1]\n",
    "out_wk = out_wk[wk_range]\n",
    "\n",
    "out_wk['Last4'] = out_wk[wk_range[-4:]].sum(axis=1)\n",
    "temp_df = out_wk.sort_values('Last4',ascending=False)[['Last4']]\n",
    "temp_df['risk_index'] = temp_df.Last4/temp_df.Last4.sum()\n",
    "temp_df[['risk_index']].head(10).to_html('../../plots/2018dec21/risk_table_sc{}.html'.format(sc))"
   ]
  },
  {
   "cell_type": "markdown",
   "metadata": {},
   "source": [
    "### Visualizing weekly choropleths"
   ]
  },
  {
   "cell_type": "code",
   "execution_count": 17,
   "metadata": {},
   "outputs": [],
   "source": [
    "# gdf = gpd.read_file('../data/shapefile/healthzones_v2/DRC_Districts.shp').set_index('ADM2_NAME')\n",
    "# gdf = gdf.join(out_wk)\n",
    "# count=0\n",
    "# for wk in wk_range:\n",
    "#     f = plt.figure(figsize=(10,10))\n",
    "#     ax = plt.gca()\n",
    "#     plt.axis('off')\n",
    "#     plt.title('Simulated cases in week {}'.format(wk),fontsize=20)\n",
    "#     gdf[(gdf.ADM1_NAME.isin(['ITURI','NORD KIVU']))].plot(ax=ax,column=wk,cmap='Reds',vmin=0,vmax=10,legend=True)\n",
    "#     #gdf.plot(ax=ax,column=wk,cmap='Reds',vmin=0,vmax=10,legend=True)\n",
    "#     display.clear_output(wait=True)\n",
    "#     display.display(pl.gcf())    \n",
    "#     plt.savefig('../plots/{:02d}_temp.png'.format(count),bbox_inches='tight')\n",
    "#     count+=1\n",
    "#     plt.close()\n",
    "\n",
    "# cmd_str = \"convert -delay 100 -loop 1 ../plots/*.png ../plots/sim_anim_nk_sc{}.gif\".format(sc)\n",
    "# call(cmd_str.split(' '))\n",
    "# [os.remove('../plots/'+x) for x in os.listdir('../plots') if '_temp.png' in x];"
   ]
  },
  {
   "cell_type": "code",
   "execution_count": 18,
   "metadata": {},
   "outputs": [],
   "source": [
    "# plt.figure(figsize=(20,20))\n",
    "# ax = plt.gca()\n",
    "# gdf = gpd.read_file('../data/shapefile/healthzones_v2/DRC_Districts.shp')\n",
    "# gdf[gdf.ADM1_NAME.isin(['ITURI','NORD KIVU'])].plot(ax=ax)\n",
    "# for hz in gdf[gdf.ADM1_NAME.isin(['ITURI','NORD KIVU'])]['ADM2_NAME'].values:\n",
    "#     plt.annotate(s=hz, xy=(gdf[gdf.ADM2_NAME==hz]['CENTER_LON'],gdf[gdf.ADM2_NAME==hz]['CENTER_LAT']),\n",
    "#                  horizontalalignment='center')"
   ]
  },
  {
   "cell_type": "markdown",
   "metadata": {},
   "source": [
    "## Comparing the two scenarios"
   ]
  },
  {
   "cell_type": "code",
   "execution_count": 19,
   "metadata": {},
   "outputs": [],
   "source": [
    "out_dict = {}"
   ]
  },
  {
   "cell_type": "code",
   "execution_count": 21,
   "metadata": {},
   "outputs": [],
   "source": [
    "sc = 'b'\n",
    "out_df = pd.DataFrame()\n",
    "for s in range(stages):\n",
    "    if s!=3:\n",
    "        temp_df = pd.read_csv('../../outputs/2018dec21/sample{}.out'.format(s),delimiter=' ',header=None,index_col=0)\n",
    "    else:\n",
    "        temp_df = pd.read_csv('../../outputs/2018dec21/sample{}{}.out'.format(s,sc),delimiter=' ',header=None,index_col=0)\n",
    "        \n",
    "    if s==0:\n",
    "        out_df = temp_df.copy(deep=True)\n",
    "    else:\n",
    "        temp_df.columns = [x+len(out_df.columns) for x in temp_df.columns]\n",
    "        out_df = out_df.join(temp_df)\n",
    "out_dict[sc] = out_df"
   ]
  },
  {
   "cell_type": "code",
   "execution_count": 22,
   "metadata": {},
   "outputs": [
    {
     "name": "stdout",
     "output_type": "stream",
     "text": [
      "Percentage Increase in baseline after 30 days horizon in comparison to current state: 35.05%\n",
      "Percentage Increase due to pull-out at 30 days horizon in comparison to baseline: 11.38%\n"
     ]
    }
   ],
   "source": [
    "horizon = 30\n",
    "chop = 90-horizon\n",
    "\n",
    "curve_a = out_dict['a'].sum().cumsum().values\n",
    "print('Percentage Increase in baseline after {} days horizon in comparison to current state: {}%'.format(horizon,round((curve_a[-1-chop]-curve_a[-91])*100/curve_a[-91],2)))\n",
    "\n",
    "tot_a = out_dict['a'].sum().cumsum().values[-1-chop]\n",
    "tot_b = out_dict['b'].sum().cumsum().values[-1-chop]\n",
    "print('Percentage Increase due to pull-out at {} days horizon in comparison to baseline: {}%'.format(horizon,round((tot_b-tot_a)*100/tot_a,2)))\n",
    "#print(int(tot_a),int(tot_b))"
   ]
  },
  {
   "cell_type": "code",
   "execution_count": 27,
   "metadata": {},
   "outputs": [],
   "source": [
    "for k in out_dict.keys():\n",
    "    out_dict[k].to_csv('../../outputs/2018dec21/forecast_2018dec21_sc{}.csv'.format(k))"
   ]
  },
  {
   "cell_type": "code",
   "execution_count": null,
   "metadata": {},
   "outputs": [],
   "source": []
  }
 ],
 "metadata": {
  "kernelspec": {
   "display_name": "Python 3",
   "language": "python",
   "name": "python3"
  },
  "language_info": {
   "codemirror_mode": {
    "name": "ipython",
    "version": 3
   },
   "file_extension": ".py",
   "mimetype": "text/x-python",
   "name": "python",
   "nbconvert_exporter": "python",
   "pygments_lexer": "ipython3",
   "version": "3.6.8"
  }
 },
 "nbformat": 4,
 "nbformat_minor": 2
}
