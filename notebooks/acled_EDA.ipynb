{
 "cells": [
  {
   "cell_type": "code",
   "execution_count": 67,
   "metadata": {},
   "outputs": [],
   "source": [
    "import pandas as pd\n",
    "import matplotlib.pyplot as plt\n",
    "%matplotlib inline"
   ]
  },
  {
   "cell_type": "markdown",
   "metadata": {},
   "source": [
    "### Notes\n",
    "\n",
    "* ISO/ISO3 has three entries (~0.2%) have been wrongly coded as Republic of Congo ('178/COG'). Rest are Democratic Republic of Congo '180/COD'.\n",
    "\n",
    "* There is a time_precision column. ~90% is 1, 9% is 2 and 1% is 3.  Similarly for geo_precision (55% is 1, 44% is 2 and 1% is 3). Perhaps qualitative scales but not sure how to use.\n",
    "\n",
    "* There are (actor, associated actor) 1 and 2. Might be useful to map out the network of current conflicting entities.  \n",
    "\n",
    "* inter1, inter2 and interaction seem to denote actor types. Not using for now. \n",
    "\n",
    "* Need to parse out the multiple sources (separated by semi-colon). Also multiple source scales ('National, International, Subnational, Other, Local, Regional) separated by hyphen.\n",
    "\n",
    "* Some NLP might be required for notes.\n",
    "\n",
    "* Timestamp field has upload date. Not using for now.\n"
   ]
  },
  {
   "cell_type": "code",
   "execution_count": 56,
   "metadata": {},
   "outputs": [
    {
     "data": {
      "text/plain": [
       "Index(['data_id', 'iso', 'event_id_cnty', 'event_id_no_cnty', 'event_date',\n",
       "       'year', 'time_precision', 'event_type', 'sub_event_type', 'actor1',\n",
       "       'assoc_actor_1', 'inter1', 'actor2', 'assoc_actor_2', 'inter2',\n",
       "       'interaction', 'region', 'country', 'admin1', 'admin2', 'admin3',\n",
       "       'location', 'latitude', 'longitude', 'geo_precision', 'source',\n",
       "       'source_scale', 'notes', 'fatalities', 'timestamp', 'iso3'],\n",
       "      dtype='object')"
      ]
     },
     "execution_count": 56,
     "metadata": {},
     "output_type": "execute_result"
    }
   ],
   "source": [
    "acled_df = pd.read_excel('../data/acled/ACLED_Ituri-NordKivu_20180802-20190705.xlsx',parse_dates=['event_date'])\n",
    "acled_df.columns"
   ]
  },
  {
   "cell_type": "code",
   "execution_count": 57,
   "metadata": {},
   "outputs": [],
   "source": [
    "useful_cols = ['event_id_cnty','event_date','event_type','sub_event_type','actor1','assoc_actor_1','actor2','assoc_actor_2', 'admin1','admin2','admin3','location','latitude','longitude', 'source','source_scale','notes','fatalities']\n",
    "acled_df = acled_df[useful_cols]"
   ]
  },
  {
   "cell_type": "code",
   "execution_count": 58,
   "metadata": {},
   "outputs": [],
   "source": [
    "acled_df = acled_df[acled_df.admin1.isin(['Nord-Kivu','Ituri'])]\n",
    "acled_df['event_date'] = pd.to_datetime(acled_df.event_date)"
   ]
  },
  {
   "cell_type": "code",
   "execution_count": 86,
   "metadata": {},
   "outputs": [],
   "source": [
    "acled_df['year_week'] = acled_df.event_date.dt.year.astype(str).values + ['W{:02d}'.format(x) for x in  acled_df.event_date.dt.week.values]"
   ]
  },
  {
   "cell_type": "code",
   "execution_count": 103,
   "metadata": {},
   "outputs": [
    {
     "data": {
      "text/plain": [
       "Text(0.5, 1.0, 'Total events - weekly')"
      ]
     },
     "execution_count": 103,
     "metadata": {},
     "output_type": "execute_result"
    },
    {
     "data": {
      "image/png": "[encoded data removed]",
      "text/plain": [
       "<Figure size 1800x432 with 1 Axes>"
      ]
     },
     "metadata": {
      "needs_background": "light"
     },
     "output_type": "display_data"
    }
   ],
   "source": [
    "plt.figure(figsize=(25,6))\n",
    "ax = plt.gca()\n",
    "acled_df.year_week.value_counts().sort_index().plot(kind='bar',color='#31a354',ax=ax)\n",
    "ax.set_xticklabels(ax.get_xticklabels(),rotation=45, ha='right')\n",
    "plt.title('Total events - weekly')"
   ]
  },
  {
   "cell_type": "code",
   "execution_count": null,
   "metadata": {},
   "outputs": [],
   "source": []
  }
 ],
 "metadata": {
  "kernelspec": {
   "display_name": "Python 3",
   "language": "python",
   "name": "python3"
  },
  "language_info": {
   "codemirror_mode": {
    "name": "ipython",
    "version": 3
   },
   "file_extension": ".py",
   "mimetype": "text/x-python",
   "name": "python",
   "nbconvert_exporter": "python",
   "pygments_lexer": "ipython3",
   "version": "3.6.8"
  }
 },
 "nbformat": 4,
 "nbformat_minor": 2
}
